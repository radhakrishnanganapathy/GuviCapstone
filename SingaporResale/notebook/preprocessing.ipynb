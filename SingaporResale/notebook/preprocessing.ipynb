{
 "cells": [
  {
   "cell_type": "code",
   "execution_count": 2,
   "id": "0f5886b1-6433-494c-ae8a-924a43273922",
   "metadata": {},
   "outputs": [],
   "source": [
    "import pandas as pd\n",
    "import glob"
   ]
  },
  {
   "cell_type": "code",
   "execution_count": 8,
   "id": "6867ded5-5b8a-4db3-bf73-d9ad52dad1fe",
   "metadata": {},
   "outputs": [
    {
     "data": {
      "text/html": [
       "<div>\n",
       "<style scoped>\n",
       "    .dataframe tbody tr th:only-of-type {\n",
       "        vertical-align: middle;\n",
       "    }\n",
       "\n",
       "    .dataframe tbody tr th {\n",
       "        vertical-align: top;\n",
       "    }\n",
       "\n",
       "    .dataframe thead th {\n",
       "        text-align: right;\n",
       "    }\n",
       "</style>\n",
       "<table border=\"1\" class=\"dataframe\">\n",
       "  <thead>\n",
       "    <tr style=\"text-align: right;\">\n",
       "      <th></th>\n",
       "      <th>month</th>\n",
       "      <th>town</th>\n",
       "      <th>flat_type</th>\n",
       "      <th>block</th>\n",
       "      <th>street_name</th>\n",
       "      <th>storey_range</th>\n",
       "      <th>floor_area_sqm</th>\n",
       "      <th>flat_model</th>\n",
       "      <th>lease_commence_date</th>\n",
       "      <th>resale_price</th>\n",
       "      <th>remaining_lease</th>\n",
       "      <th>address</th>\n",
       "      <th>timestamp</th>\n",
       "      <th>year</th>\n",
       "    </tr>\n",
       "  </thead>\n",
       "  <tbody>\n",
       "    <tr>\n",
       "      <th>0</th>\n",
       "      <td>1</td>\n",
       "      <td>ANG MO KIO</td>\n",
       "      <td>3 ROOM</td>\n",
       "      <td>174</td>\n",
       "      <td>ANG MO KIO AVE 4</td>\n",
       "      <td>07 TO 09</td>\n",
       "      <td>60.0</td>\n",
       "      <td>Improved</td>\n",
       "      <td>1986</td>\n",
       "      <td>255000.0</td>\n",
       "      <td>70</td>\n",
       "      <td>174 ANG MO KIO AVE 4</td>\n",
       "      <td>2015-01-01</td>\n",
       "      <td>2015.0</td>\n",
       "    </tr>\n",
       "    <tr>\n",
       "      <th>1</th>\n",
       "      <td>1</td>\n",
       "      <td>ANG MO KIO</td>\n",
       "      <td>3 ROOM</td>\n",
       "      <td>541</td>\n",
       "      <td>ANG MO KIO AVE 10</td>\n",
       "      <td>01 TO 03</td>\n",
       "      <td>68.0</td>\n",
       "      <td>New Generation</td>\n",
       "      <td>1981</td>\n",
       "      <td>275000.0</td>\n",
       "      <td>65</td>\n",
       "      <td>541 ANG MO KIO AVE 10</td>\n",
       "      <td>2015-01-01</td>\n",
       "      <td>2015.0</td>\n",
       "    </tr>\n",
       "  </tbody>\n",
       "</table>\n",
       "</div>"
      ],
      "text/plain": [
       "  month        town flat_type block        street_name storey_range  \\\n",
       "0     1  ANG MO KIO    3 ROOM   174   ANG MO KIO AVE 4     07 TO 09   \n",
       "1     1  ANG MO KIO    3 ROOM   541  ANG MO KIO AVE 10     01 TO 03   \n",
       "\n",
       "   floor_area_sqm      flat_model  lease_commence_date  resale_price  \\\n",
       "0            60.0        Improved                 1986      255000.0   \n",
       "1            68.0  New Generation                 1981      275000.0   \n",
       "\n",
       "  remaining_lease                address   timestamp    year  \n",
       "0              70   174 ANG MO KIO AVE 4  2015-01-01  2015.0  \n",
       "1              65  541 ANG MO KIO AVE 10  2015-01-01  2015.0  "
      ]
     },
     "execution_count": 8,
     "metadata": {},
     "output_type": "execute_result"
    }
   ],
   "source": [
    "df = pd.concat([pd.read_csv(f) for f in glob.glob(\"../data/*.csv\")], ignore_index=True)\n",
    "df.head(2)"
   ]
  },
  {
   "cell_type": "code",
   "execution_count": 9,
   "id": "c85506c8-2c3c-464d-9264-0736cf20d520",
   "metadata": {},
   "outputs": [
    {
     "data": {
      "text/plain": [
       "(743787, 14)"
      ]
     },
     "execution_count": 9,
     "metadata": {},
     "output_type": "execute_result"
    }
   ],
   "source": [
    "df.shape"
   ]
  },
  {
   "cell_type": "code",
   "execution_count": 10,
   "id": "c2b91687-a74c-43c6-b118-633ed5229da1",
   "metadata": {},
   "outputs": [
    {
     "data": {
      "text/plain": [
       "month                       0\n",
       "town                        0\n",
       "flat_type                   0\n",
       "block                       0\n",
       "street_name                 0\n",
       "storey_range                0\n",
       "floor_area_sqm              0\n",
       "flat_model                  0\n",
       "lease_commence_date         0\n",
       "resale_price                0\n",
       "remaining_lease        339399\n",
       "address                541593\n",
       "timestamp              541593\n",
       "year                   541593\n",
       "dtype: int64"
      ]
     },
     "execution_count": 10,
     "metadata": {},
     "output_type": "execute_result"
    }
   ],
   "source": [
    "df.isnull().sum()"
   ]
  },
  {
   "cell_type": "code",
   "execution_count": 11,
   "id": "ef1a5b1b-94c8-47f2-9019-52eb85f9d3f0",
   "metadata": {},
   "outputs": [],
   "source": [
    "df = df.dropna()"
   ]
  },
  {
   "cell_type": "code",
   "execution_count": 12,
   "id": "d01256f6-e29d-4e19-b576-d8a429d1d4c1",
   "metadata": {},
   "outputs": [
    {
     "data": {
      "text/plain": [
       "month                  0\n",
       "town                   0\n",
       "flat_type              0\n",
       "block                  0\n",
       "street_name            0\n",
       "storey_range           0\n",
       "floor_area_sqm         0\n",
       "flat_model             0\n",
       "lease_commence_date    0\n",
       "resale_price           0\n",
       "remaining_lease        0\n",
       "address                0\n",
       "timestamp              0\n",
       "year                   0\n",
       "dtype: int64"
      ]
     },
     "execution_count": 12,
     "metadata": {},
     "output_type": "execute_result"
    }
   ],
   "source": [
    "df.isnull().sum()"
   ]
  },
  {
   "cell_type": "code",
   "execution_count": 13,
   "id": "ffeb8782-db89-4bef-adfa-4a32638fcbf0",
   "metadata": {},
   "outputs": [
    {
     "data": {
      "text/plain": [
       "array(['ANG MO KIO', 'BEDOK', 'BISHAN', 'BUKIT BATOK', 'BUKIT MERAH',\n",
       "       'BUKIT PANJANG', 'BUKIT TIMAH', 'CENTRAL AREA', 'CHOA CHU KANG',\n",
       "       'CLEMENTI', 'GEYLANG', 'HOUGANG', 'JURONG EAST', 'JURONG WEST',\n",
       "       'KALLANG/WHAMPOA', 'MARINE PARADE', 'PASIR RIS', 'PUNGGOL',\n",
       "       'QUEENSTOWN', 'SEMBAWANG', 'SENGKANG', 'SERANGOON', 'TAMPINES',\n",
       "       'TOA PAYOH', 'WOODLANDS', 'YISHUN'], dtype=object)"
      ]
     },
     "execution_count": 13,
     "metadata": {},
     "output_type": "execute_result"
    }
   ],
   "source": [
    "df['town'].unique()"
   ]
  },
  {
   "cell_type": "code",
   "execution_count": 14,
   "id": "722c0b22-0412-4c38-9b38-3d4f94a06055",
   "metadata": {},
   "outputs": [
    {
     "data": {
      "text/plain": [
       "array(['3 ROOM', '4 ROOM', '5 ROOM', '2 ROOM', 'EXECUTIVE', '1 ROOM',\n",
       "       'MULTI-GENERATION'], dtype=object)"
      ]
     },
     "execution_count": 14,
     "metadata": {},
     "output_type": "execute_result"
    }
   ],
   "source": [
    "df['flat_type'].unique()"
   ]
  },
  {
   "cell_type": "code",
   "execution_count": 15,
   "id": "5cc7e316-69dc-46cb-8969-c3b8d96851db",
   "metadata": {},
   "outputs": [],
   "source": [
    "# df['block'].value_counts()\n",
    "# df['block'].nunique()"
   ]
  },
  {
   "cell_type": "code",
   "execution_count": 16,
   "id": "6364beea-f643-4539-b0eb-0d78713afc4e",
   "metadata": {},
   "outputs": [],
   "source": [
    "# df['street_name'].nunique()"
   ]
  },
  {
   "cell_type": "code",
   "execution_count": 17,
   "id": "0c74cd70-a877-451a-ba2f-5800f51673be",
   "metadata": {},
   "outputs": [],
   "source": [
    "# df['storey_range'].unique()"
   ]
  },
  {
   "cell_type": "code",
   "execution_count": 19,
   "id": "284abcd1-b0e5-4b44-8948-dde689ecb17a",
   "metadata": {},
   "outputs": [
    {
     "data": {
      "text/html": [
       "<div>\n",
       "<style scoped>\n",
       "    .dataframe tbody tr th:only-of-type {\n",
       "        vertical-align: middle;\n",
       "    }\n",
       "\n",
       "    .dataframe tbody tr th {\n",
       "        vertical-align: top;\n",
       "    }\n",
       "\n",
       "    .dataframe thead th {\n",
       "        text-align: right;\n",
       "    }\n",
       "</style>\n",
       "<table border=\"1\" class=\"dataframe\">\n",
       "  <thead>\n",
       "    <tr style=\"text-align: right;\">\n",
       "      <th></th>\n",
       "      <th>month</th>\n",
       "      <th>town</th>\n",
       "      <th>flat_type</th>\n",
       "      <th>block</th>\n",
       "      <th>street_name</th>\n",
       "      <th>storey_range</th>\n",
       "      <th>floor_area_sqm</th>\n",
       "      <th>flat_model</th>\n",
       "      <th>lease_commence_date</th>\n",
       "      <th>resale_price</th>\n",
       "      <th>remaining_lease</th>\n",
       "      <th>address</th>\n",
       "      <th>timestamp</th>\n",
       "      <th>year</th>\n",
       "    </tr>\n",
       "  </thead>\n",
       "  <tbody>\n",
       "    <tr>\n",
       "      <th>0</th>\n",
       "      <td>1</td>\n",
       "      <td>ANG MO KIO</td>\n",
       "      <td>3 ROOM</td>\n",
       "      <td>174</td>\n",
       "      <td>ANG MO KIO AVE 4</td>\n",
       "      <td>07 TO 09</td>\n",
       "      <td>60.0</td>\n",
       "      <td>Improved</td>\n",
       "      <td>1986</td>\n",
       "      <td>255000.0</td>\n",
       "      <td>70</td>\n",
       "      <td>174 ANG MO KIO AVE 4</td>\n",
       "      <td>2015-01-01</td>\n",
       "      <td>2015.0</td>\n",
       "    </tr>\n",
       "    <tr>\n",
       "      <th>1</th>\n",
       "      <td>1</td>\n",
       "      <td>ANG MO KIO</td>\n",
       "      <td>3 ROOM</td>\n",
       "      <td>541</td>\n",
       "      <td>ANG MO KIO AVE 10</td>\n",
       "      <td>01 TO 03</td>\n",
       "      <td>68.0</td>\n",
       "      <td>New Generation</td>\n",
       "      <td>1981</td>\n",
       "      <td>275000.0</td>\n",
       "      <td>65</td>\n",
       "      <td>541 ANG MO KIO AVE 10</td>\n",
       "      <td>2015-01-01</td>\n",
       "      <td>2015.0</td>\n",
       "    </tr>\n",
       "  </tbody>\n",
       "</table>\n",
       "</div>"
      ],
      "text/plain": [
       "  month        town flat_type block        street_name storey_range  \\\n",
       "0     1  ANG MO KIO    3 ROOM   174   ANG MO KIO AVE 4     07 TO 09   \n",
       "1     1  ANG MO KIO    3 ROOM   541  ANG MO KIO AVE 10     01 TO 03   \n",
       "\n",
       "   floor_area_sqm      flat_model  lease_commence_date  resale_price  \\\n",
       "0            60.0        Improved                 1986      255000.0   \n",
       "1            68.0  New Generation                 1981      275000.0   \n",
       "\n",
       "  remaining_lease                address   timestamp    year  \n",
       "0              70   174 ANG MO KIO AVE 4  2015-01-01  2015.0  \n",
       "1              65  541 ANG MO KIO AVE 10  2015-01-01  2015.0  "
      ]
     },
     "execution_count": 19,
     "metadata": {},
     "output_type": "execute_result"
    }
   ],
   "source": [
    "df['address'] = df['block'] +\" \" + df['street_name']\n",
    "df.head(2)"
   ]
  },
  {
   "cell_type": "code",
   "execution_count": 44,
   "id": "55f6d0a9-d9fe-49e6-9bc5-7cc64b36ae3c",
   "metadata": {},
   "outputs": [
    {
     "data": {
      "text/plain": [
       "month                   object\n",
       "town                    object\n",
       "flat_type               object\n",
       "block                   object\n",
       "street_name             object\n",
       "storey_range            object\n",
       "floor_area_sqm         float64\n",
       "flat_model              object\n",
       "lease_commence_date      int64\n",
       "resale_price           float64\n",
       "remaining_lease         object\n",
       "address                 object\n",
       "dtype: object"
      ]
     },
     "execution_count": 44,
     "metadata": {},
     "output_type": "execute_result"
    }
   ],
   "source": [
    "df.dtypes"
   ]
  },
  {
   "cell_type": "code",
   "execution_count": 20,
   "id": "a2783498-811e-4cfc-a08b-31799cb89f65",
   "metadata": {},
   "outputs": [],
   "source": [
    "df['timestamp'] = pd.to_datetime(df['month'])\n"
   ]
  },
  {
   "cell_type": "code",
   "execution_count": 49,
   "id": "d23e0ea3-d425-4bfa-98b2-328d26159562",
   "metadata": {},
   "outputs": [],
   "source": [
    "df['month'] = df['timestamp'].dt.month\n",
    "df['year'] = df['timestamp'].dt.year"
   ]
  },
  {
   "cell_type": "code",
   "execution_count": 21,
   "id": "0795e33f-d440-461b-b623-376c41d435e2",
   "metadata": {},
   "outputs": [
    {
     "data": {
      "text/html": [
       "<div>\n",
       "<style scoped>\n",
       "    .dataframe tbody tr th:only-of-type {\n",
       "        vertical-align: middle;\n",
       "    }\n",
       "\n",
       "    .dataframe tbody tr th {\n",
       "        vertical-align: top;\n",
       "    }\n",
       "\n",
       "    .dataframe thead th {\n",
       "        text-align: right;\n",
       "    }\n",
       "</style>\n",
       "<table border=\"1\" class=\"dataframe\">\n",
       "  <thead>\n",
       "    <tr style=\"text-align: right;\">\n",
       "      <th></th>\n",
       "      <th>month</th>\n",
       "      <th>town</th>\n",
       "      <th>flat_type</th>\n",
       "      <th>block</th>\n",
       "      <th>street_name</th>\n",
       "      <th>storey_range</th>\n",
       "      <th>floor_area_sqm</th>\n",
       "      <th>flat_model</th>\n",
       "      <th>lease_commence_date</th>\n",
       "      <th>resale_price</th>\n",
       "      <th>remaining_lease</th>\n",
       "      <th>address</th>\n",
       "      <th>timestamp</th>\n",
       "      <th>year</th>\n",
       "    </tr>\n",
       "  </thead>\n",
       "  <tbody>\n",
       "    <tr>\n",
       "      <th>0</th>\n",
       "      <td>1</td>\n",
       "      <td>ANG MO KIO</td>\n",
       "      <td>3 ROOM</td>\n",
       "      <td>174</td>\n",
       "      <td>ANG MO KIO AVE 4</td>\n",
       "      <td>07 TO 09</td>\n",
       "      <td>60.0</td>\n",
       "      <td>Improved</td>\n",
       "      <td>1986</td>\n",
       "      <td>255000.0</td>\n",
       "      <td>70</td>\n",
       "      <td>174 ANG MO KIO AVE 4</td>\n",
       "      <td>1970-01-01 00:00:00.000000001</td>\n",
       "      <td>2015.0</td>\n",
       "    </tr>\n",
       "    <tr>\n",
       "      <th>1</th>\n",
       "      <td>1</td>\n",
       "      <td>ANG MO KIO</td>\n",
       "      <td>3 ROOM</td>\n",
       "      <td>541</td>\n",
       "      <td>ANG MO KIO AVE 10</td>\n",
       "      <td>01 TO 03</td>\n",
       "      <td>68.0</td>\n",
       "      <td>New Generation</td>\n",
       "      <td>1981</td>\n",
       "      <td>275000.0</td>\n",
       "      <td>65</td>\n",
       "      <td>541 ANG MO KIO AVE 10</td>\n",
       "      <td>1970-01-01 00:00:00.000000001</td>\n",
       "      <td>2015.0</td>\n",
       "    </tr>\n",
       "  </tbody>\n",
       "</table>\n",
       "</div>"
      ],
      "text/plain": [
       "  month        town flat_type block        street_name storey_range  \\\n",
       "0     1  ANG MO KIO    3 ROOM   174   ANG MO KIO AVE 4     07 TO 09   \n",
       "1     1  ANG MO KIO    3 ROOM   541  ANG MO KIO AVE 10     01 TO 03   \n",
       "\n",
       "   floor_area_sqm      flat_model  lease_commence_date  resale_price  \\\n",
       "0            60.0        Improved                 1986      255000.0   \n",
       "1            68.0  New Generation                 1981      275000.0   \n",
       "\n",
       "  remaining_lease                address                     timestamp    year  \n",
       "0              70   174 ANG MO KIO AVE 4 1970-01-01 00:00:00.000000001  2015.0  \n",
       "1              65  541 ANG MO KIO AVE 10 1970-01-01 00:00:00.000000001  2015.0  "
      ]
     },
     "execution_count": 21,
     "metadata": {},
     "output_type": "execute_result"
    }
   ],
   "source": [
    "df.head(2)"
   ]
  },
  {
   "cell_type": "code",
   "execution_count": 53,
   "id": "5657aa99-c102-42b0-89a9-eca739911840",
   "metadata": {},
   "outputs": [],
   "source": [
    "df.to_csv('../data/final.csv', index= False)"
   ]
  },
  {
   "cell_type": "code",
   "execution_count": 23,
   "id": "c77ac4de-a33a-4dd3-b991-cd3a2ade7c5b",
   "metadata": {},
   "outputs": [
    {
     "data": {
      "text/html": [
       "<div>\n",
       "<style scoped>\n",
       "    .dataframe tbody tr th:only-of-type {\n",
       "        vertical-align: middle;\n",
       "    }\n",
       "\n",
       "    .dataframe tbody tr th {\n",
       "        vertical-align: top;\n",
       "    }\n",
       "\n",
       "    .dataframe thead th {\n",
       "        text-align: right;\n",
       "    }\n",
       "</style>\n",
       "<table border=\"1\" class=\"dataframe\">\n",
       "  <thead>\n",
       "    <tr style=\"text-align: right;\">\n",
       "      <th></th>\n",
       "      <th>month</th>\n",
       "      <th>town</th>\n",
       "      <th>flat_type</th>\n",
       "      <th>block</th>\n",
       "      <th>street_name</th>\n",
       "      <th>storey_range</th>\n",
       "      <th>floor_area_sqm</th>\n",
       "      <th>flat_model</th>\n",
       "      <th>lease_commence_date</th>\n",
       "      <th>resale_price</th>\n",
       "      <th>remaining_lease</th>\n",
       "      <th>address</th>\n",
       "      <th>timestamp</th>\n",
       "      <th>year</th>\n",
       "    </tr>\n",
       "  </thead>\n",
       "  <tbody>\n",
       "    <tr>\n",
       "      <th>0</th>\n",
       "      <td>1</td>\n",
       "      <td>ANG MO KIO</td>\n",
       "      <td>3 ROOM</td>\n",
       "      <td>174</td>\n",
       "      <td>ANG MO KIO AVE 4</td>\n",
       "      <td>07 TO 09</td>\n",
       "      <td>60.0</td>\n",
       "      <td>Improved</td>\n",
       "      <td>1986</td>\n",
       "      <td>255000.0</td>\n",
       "      <td>70</td>\n",
       "      <td>174 ANG MO KIO AVE 4</td>\n",
       "      <td>2015-01-01</td>\n",
       "      <td>2015</td>\n",
       "    </tr>\n",
       "    <tr>\n",
       "      <th>1</th>\n",
       "      <td>1</td>\n",
       "      <td>ANG MO KIO</td>\n",
       "      <td>3 ROOM</td>\n",
       "      <td>541</td>\n",
       "      <td>ANG MO KIO AVE 10</td>\n",
       "      <td>01 TO 03</td>\n",
       "      <td>68.0</td>\n",
       "      <td>New Generation</td>\n",
       "      <td>1981</td>\n",
       "      <td>275000.0</td>\n",
       "      <td>65</td>\n",
       "      <td>541 ANG MO KIO AVE 10</td>\n",
       "      <td>2015-01-01</td>\n",
       "      <td>2015</td>\n",
       "    </tr>\n",
       "  </tbody>\n",
       "</table>\n",
       "</div>"
      ],
      "text/plain": [
       "   month        town flat_type block        street_name storey_range  \\\n",
       "0      1  ANG MO KIO    3 ROOM   174   ANG MO KIO AVE 4     07 TO 09   \n",
       "1      1  ANG MO KIO    3 ROOM   541  ANG MO KIO AVE 10     01 TO 03   \n",
       "\n",
       "   floor_area_sqm      flat_model  lease_commence_date  resale_price  \\\n",
       "0            60.0        Improved                 1986      255000.0   \n",
       "1            68.0  New Generation                 1981      275000.0   \n",
       "\n",
       "  remaining_lease                address   timestamp  year  \n",
       "0              70   174 ANG MO KIO AVE 4  2015-01-01  2015  \n",
       "1              65  541 ANG MO KIO AVE 10  2015-01-01  2015  "
      ]
     },
     "execution_count": 23,
     "metadata": {},
     "output_type": "execute_result"
    }
   ],
   "source": [
    "new_df = pd.read_csv('../data/final.csv')\n",
    "new_df.head(2)"
   ]
  },
  {
   "cell_type": "code",
   "execution_count": 24,
   "id": "934c5cf9-3781-4d85-82dc-da832383c326",
   "metadata": {},
   "outputs": [
    {
     "data": {
      "text/plain": [
       "month                    int64\n",
       "town                    object\n",
       "flat_type               object\n",
       "block                   object\n",
       "street_name             object\n",
       "storey_range            object\n",
       "floor_area_sqm         float64\n",
       "flat_model              object\n",
       "lease_commence_date      int64\n",
       "resale_price           float64\n",
       "remaining_lease         object\n",
       "address                 object\n",
       "timestamp               object\n",
       "year                     int64\n",
       "dtype: object"
      ]
     },
     "execution_count": 24,
     "metadata": {},
     "output_type": "execute_result"
    }
   ],
   "source": [
    "new_df.dtypes"
   ]
  },
  {
   "cell_type": "code",
   "execution_count": 58,
   "id": "a1b87581-da94-4143-b065-a989968e7b57",
   "metadata": {},
   "outputs": [
    {
     "data": {
      "text/plain": [
       "month                  0\n",
       "town                   0\n",
       "flat_type              0\n",
       "block                  0\n",
       "street_name            0\n",
       "storey_range           0\n",
       "floor_area_sqm         0\n",
       "flat_model             0\n",
       "lease_commence_date    0\n",
       "resale_price           0\n",
       "remaining_lease        0\n",
       "address                0\n",
       "timestamp              0\n",
       "year                   0\n",
       "dtype: int64"
      ]
     },
     "execution_count": 58,
     "metadata": {},
     "output_type": "execute_result"
    }
   ],
   "source": [
    "new_df.isnull().sum()"
   ]
  },
  {
   "cell_type": "code",
   "execution_count": 26,
   "id": "6ffe8b3f-40f2-4751-b6e4-7c1505ce010d",
   "metadata": {},
   "outputs": [
    {
     "data": {
      "text/html": [
       "<div>\n",
       "<style scoped>\n",
       "    .dataframe tbody tr th:only-of-type {\n",
       "        vertical-align: middle;\n",
       "    }\n",
       "\n",
       "    .dataframe tbody tr th {\n",
       "        vertical-align: top;\n",
       "    }\n",
       "\n",
       "    .dataframe thead th {\n",
       "        text-align: right;\n",
       "    }\n",
       "</style>\n",
       "<table border=\"1\" class=\"dataframe\">\n",
       "  <thead>\n",
       "    <tr style=\"text-align: right;\">\n",
       "      <th></th>\n",
       "      <th>month</th>\n",
       "      <th>town</th>\n",
       "      <th>flat_type</th>\n",
       "      <th>block</th>\n",
       "      <th>street_name</th>\n",
       "      <th>storey_range</th>\n",
       "      <th>floor_area_sqm</th>\n",
       "      <th>flat_model</th>\n",
       "      <th>lease_commence_date</th>\n",
       "      <th>resale_price</th>\n",
       "      <th>remaining_lease</th>\n",
       "      <th>address</th>\n",
       "      <th>timestamp</th>\n",
       "      <th>year</th>\n",
       "      <th>story_median</th>\n",
       "    </tr>\n",
       "  </thead>\n",
       "  <tbody>\n",
       "    <tr>\n",
       "      <th>0</th>\n",
       "      <td>1</td>\n",
       "      <td>ANG MO KIO</td>\n",
       "      <td>3 ROOM</td>\n",
       "      <td>174</td>\n",
       "      <td>ANG MO KIO AVE 4</td>\n",
       "      <td>07 TO 09</td>\n",
       "      <td>60.0</td>\n",
       "      <td>Improved</td>\n",
       "      <td>1986</td>\n",
       "      <td>255000.0</td>\n",
       "      <td>70</td>\n",
       "      <td>174 ANG MO KIO AVE 4</td>\n",
       "      <td>2015-01-01</td>\n",
       "      <td>2015</td>\n",
       "      <td>8.0</td>\n",
       "    </tr>\n",
       "    <tr>\n",
       "      <th>1</th>\n",
       "      <td>1</td>\n",
       "      <td>ANG MO KIO</td>\n",
       "      <td>3 ROOM</td>\n",
       "      <td>541</td>\n",
       "      <td>ANG MO KIO AVE 10</td>\n",
       "      <td>01 TO 03</td>\n",
       "      <td>68.0</td>\n",
       "      <td>New Generation</td>\n",
       "      <td>1981</td>\n",
       "      <td>275000.0</td>\n",
       "      <td>65</td>\n",
       "      <td>541 ANG MO KIO AVE 10</td>\n",
       "      <td>2015-01-01</td>\n",
       "      <td>2015</td>\n",
       "      <td>2.0</td>\n",
       "    </tr>\n",
       "  </tbody>\n",
       "</table>\n",
       "</div>"
      ],
      "text/plain": [
       "   month        town flat_type block        street_name storey_range  \\\n",
       "0      1  ANG MO KIO    3 ROOM   174   ANG MO KIO AVE 4     07 TO 09   \n",
       "1      1  ANG MO KIO    3 ROOM   541  ANG MO KIO AVE 10     01 TO 03   \n",
       "\n",
       "   floor_area_sqm      flat_model  lease_commence_date  resale_price  \\\n",
       "0            60.0        Improved                 1986      255000.0   \n",
       "1            68.0  New Generation                 1981      275000.0   \n",
       "\n",
       "  remaining_lease                address   timestamp  year  story_median  \n",
       "0              70   174 ANG MO KIO AVE 4  2015-01-01  2015           8.0  \n",
       "1              65  541 ANG MO KIO AVE 10  2015-01-01  2015           2.0  "
      ]
     },
     "execution_count": 26,
     "metadata": {},
     "output_type": "execute_result"
    }
   ],
   "source": [
    "import statistics\n",
    "def get_median(x):\n",
    "    split_list = x.split(' TO ')\n",
    "    float_list = [float(i) for i in split_list]\n",
    "    median = statistics.median(float_list)\n",
    "    return median\n",
    "\n",
    "new_df['story_median'] = new_df['storey_range'].apply(lambda x:get_median(x))\n",
    "new_df.head(2)"
   ]
  },
  {
   "cell_type": "code",
   "execution_count": 27,
   "id": "18b9bf28-cb14-4901-9e73-d883dae26d71",
   "metadata": {},
   "outputs": [
    {
     "data": {
      "text/html": [
       "<div>\n",
       "<style scoped>\n",
       "    .dataframe tbody tr th:only-of-type {\n",
       "        vertical-align: middle;\n",
       "    }\n",
       "\n",
       "    .dataframe tbody tr th {\n",
       "        vertical-align: top;\n",
       "    }\n",
       "\n",
       "    .dataframe thead th {\n",
       "        text-align: right;\n",
       "    }\n",
       "</style>\n",
       "<table border=\"1\" class=\"dataframe\">\n",
       "  <thead>\n",
       "    <tr style=\"text-align: right;\">\n",
       "      <th></th>\n",
       "      <th>latitude</th>\n",
       "      <th>longitude</th>\n",
       "      <th>blk_no</th>\n",
       "      <th>road_name</th>\n",
       "      <th>postal_code</th>\n",
       "      <th>address</th>\n",
       "      <th>cbd_dist</th>\n",
       "      <th>min_dist_mrt</th>\n",
       "    </tr>\n",
       "  </thead>\n",
       "  <tbody>\n",
       "    <tr>\n",
       "      <th>0</th>\n",
       "      <td>1.362005</td>\n",
       "      <td>103.853880</td>\n",
       "      <td>406</td>\n",
       "      <td>ANG MO KIO AVENUE 10</td>\n",
       "      <td>560406</td>\n",
       "      <td>406 ANG MO KIO AVE 10</td>\n",
       "      <td>8740.633473</td>\n",
       "      <td>999.941595</td>\n",
       "    </tr>\n",
       "    <tr>\n",
       "      <th>1</th>\n",
       "      <td>1.370966</td>\n",
       "      <td>103.838202</td>\n",
       "      <td>108</td>\n",
       "      <td>ANG MO KIO AVENUE 4</td>\n",
       "      <td>560108</td>\n",
       "      <td>108 ANG MO KIO AVE 4</td>\n",
       "      <td>9835.486576</td>\n",
       "      <td>1268.958162</td>\n",
       "    </tr>\n",
       "  </tbody>\n",
       "</table>\n",
       "</div>"
      ],
      "text/plain": [
       "   latitude   longitude blk_no             road_name postal_code  \\\n",
       "0  1.362005  103.853880    406  ANG MO KIO AVENUE 10      560406   \n",
       "1  1.370966  103.838202    108   ANG MO KIO AVENUE 4      560108   \n",
       "\n",
       "                 address     cbd_dist  min_dist_mrt  \n",
       "0  406 ANG MO KIO AVE 10  8740.633473    999.941595  \n",
       "1   108 ANG MO KIO AVE 4  9835.486576   1268.958162  "
      ]
     },
     "execution_count": 27,
     "metadata": {},
     "output_type": "execute_result"
    }
   ],
   "source": [
    "coordinates_df = pd.read_csv('../data/df_coordinates.csv')\n",
    "coordinates_df.head(2)"
   ]
  },
  {
   "cell_type": "code",
   "execution_count": 28,
   "id": "0df1fdd1-d07a-41a7-83c2-204ca35df883",
   "metadata": {},
   "outputs": [
    {
     "data": {
      "text/html": [
       "<div>\n",
       "<style scoped>\n",
       "    .dataframe tbody tr th:only-of-type {\n",
       "        vertical-align: middle;\n",
       "    }\n",
       "\n",
       "    .dataframe tbody tr th {\n",
       "        vertical-align: top;\n",
       "    }\n",
       "\n",
       "    .dataframe thead th {\n",
       "        text-align: right;\n",
       "    }\n",
       "</style>\n",
       "<table border=\"1\" class=\"dataframe\">\n",
       "  <thead>\n",
       "    <tr style=\"text-align: right;\">\n",
       "      <th></th>\n",
       "      <th>latitude</th>\n",
       "      <th>longitude</th>\n",
       "      <th>blk_no</th>\n",
       "      <th>road_name</th>\n",
       "      <th>postal_code</th>\n",
       "      <th>address</th>\n",
       "      <th>cbd_dist</th>\n",
       "      <th>min_dist_mrt</th>\n",
       "      <th>month</th>\n",
       "      <th>town</th>\n",
       "      <th>...</th>\n",
       "      <th>street_name</th>\n",
       "      <th>storey_range</th>\n",
       "      <th>floor_area_sqm</th>\n",
       "      <th>flat_model</th>\n",
       "      <th>lease_commence_date</th>\n",
       "      <th>resale_price</th>\n",
       "      <th>remaining_lease</th>\n",
       "      <th>timestamp</th>\n",
       "      <th>year</th>\n",
       "      <th>story_median</th>\n",
       "    </tr>\n",
       "  </thead>\n",
       "  <tbody>\n",
       "    <tr>\n",
       "      <th>0</th>\n",
       "      <td>1.294801</td>\n",
       "      <td>103.854467</td>\n",
       "      <td>1</td>\n",
       "      <td>BEACH ROAD</td>\n",
       "      <td>189673</td>\n",
       "      <td>1 BEACH RD</td>\n",
       "      <td>1351.713661</td>\n",
       "      <td>143.728945</td>\n",
       "      <td>1</td>\n",
       "      <td>KALLANG/WHAMPOA</td>\n",
       "      <td>...</td>\n",
       "      <td>BEACH RD</td>\n",
       "      <td>04 TO 06</td>\n",
       "      <td>74.0</td>\n",
       "      <td>Improved</td>\n",
       "      <td>1979</td>\n",
       "      <td>388000.0</td>\n",
       "      <td>63</td>\n",
       "      <td>2015-01-01</td>\n",
       "      <td>2015</td>\n",
       "      <td>5.0</td>\n",
       "    </tr>\n",
       "    <tr>\n",
       "      <th>1</th>\n",
       "      <td>1.294801</td>\n",
       "      <td>103.854467</td>\n",
       "      <td>1</td>\n",
       "      <td>BEACH ROAD</td>\n",
       "      <td>189673</td>\n",
       "      <td>1 BEACH RD</td>\n",
       "      <td>1351.713661</td>\n",
       "      <td>143.728945</td>\n",
       "      <td>3</td>\n",
       "      <td>KALLANG/WHAMPOA</td>\n",
       "      <td>...</td>\n",
       "      <td>BEACH RD</td>\n",
       "      <td>07 TO 09</td>\n",
       "      <td>68.0</td>\n",
       "      <td>Improved</td>\n",
       "      <td>1979</td>\n",
       "      <td>350000.0</td>\n",
       "      <td>62</td>\n",
       "      <td>2016-03-01</td>\n",
       "      <td>2016</td>\n",
       "      <td>8.0</td>\n",
       "    </tr>\n",
       "  </tbody>\n",
       "</table>\n",
       "<p>2 rows × 22 columns</p>\n",
       "</div>"
      ],
      "text/plain": [
       "   latitude   longitude blk_no   road_name postal_code     address  \\\n",
       "0  1.294801  103.854467      1  BEACH ROAD      189673  1 BEACH RD   \n",
       "1  1.294801  103.854467      1  BEACH ROAD      189673  1 BEACH RD   \n",
       "\n",
       "      cbd_dist  min_dist_mrt  month             town  ... street_name  \\\n",
       "0  1351.713661    143.728945      1  KALLANG/WHAMPOA  ...    BEACH RD   \n",
       "1  1351.713661    143.728945      3  KALLANG/WHAMPOA  ...    BEACH RD   \n",
       "\n",
       "  storey_range floor_area_sqm flat_model  lease_commence_date resale_price  \\\n",
       "0     04 TO 06           74.0   Improved                 1979     388000.0   \n",
       "1     07 TO 09           68.0   Improved                 1979     350000.0   \n",
       "\n",
       "   remaining_lease   timestamp  year story_median  \n",
       "0               63  2015-01-01  2015          5.0  \n",
       "1               62  2016-03-01  2016          8.0  \n",
       "\n",
       "[2 rows x 22 columns]"
      ]
     },
     "execution_count": 28,
     "metadata": {},
     "output_type": "execute_result"
    }
   ],
   "source": [
    "df_new = coordinates_df.merge(new_df, on='address', how='outer')\n",
    "df_new.head(2)"
   ]
  },
  {
   "cell_type": "code",
   "execution_count": 29,
   "id": "186816df-c3b9-4795-b800-06a2258d5b5d",
   "metadata": {},
   "outputs": [],
   "source": [
    "df_new.dropna(inplace=True)"
   ]
  },
  {
   "cell_type": "code",
   "execution_count": 30,
   "id": "0eeaa209-ecef-4451-9065-477fff73bbfd",
   "metadata": {},
   "outputs": [],
   "source": [
    "df_new['resale_price'] = df_new['resale_price'].astype('float')\n",
    "df_new['floor_area_sqm'] = df_new['floor_area_sqm'].astype('float')\n",
    "df_new['lease_commence_date'] = df_new['lease_commence_date'].astype('int64')\n",
    "df_new['lease_remain_years'] = 99 - (2023 - df_new['lease_commence_date'])"
   ]
  },
  {
   "cell_type": "code",
   "execution_count": 31,
   "id": "26a35fc4-fe1b-4ed0-8242-e96c0dcb4ebc",
   "metadata": {},
   "outputs": [
    {
     "data": {
      "text/html": [
       "<div>\n",
       "<style scoped>\n",
       "    .dataframe tbody tr th:only-of-type {\n",
       "        vertical-align: middle;\n",
       "    }\n",
       "\n",
       "    .dataframe tbody tr th {\n",
       "        vertical-align: top;\n",
       "    }\n",
       "\n",
       "    .dataframe thead th {\n",
       "        text-align: right;\n",
       "    }\n",
       "</style>\n",
       "<table border=\"1\" class=\"dataframe\">\n",
       "  <thead>\n",
       "    <tr style=\"text-align: right;\">\n",
       "      <th></th>\n",
       "      <th>latitude</th>\n",
       "      <th>longitude</th>\n",
       "      <th>blk_no</th>\n",
       "      <th>road_name</th>\n",
       "      <th>postal_code</th>\n",
       "      <th>address</th>\n",
       "      <th>cbd_dist</th>\n",
       "      <th>min_dist_mrt</th>\n",
       "      <th>month</th>\n",
       "      <th>town</th>\n",
       "      <th>...</th>\n",
       "      <th>storey_range</th>\n",
       "      <th>floor_area_sqm</th>\n",
       "      <th>flat_model</th>\n",
       "      <th>lease_commence_date</th>\n",
       "      <th>resale_price</th>\n",
       "      <th>remaining_lease</th>\n",
       "      <th>timestamp</th>\n",
       "      <th>year</th>\n",
       "      <th>story_median</th>\n",
       "      <th>lease_remain_years</th>\n",
       "    </tr>\n",
       "  </thead>\n",
       "  <tbody>\n",
       "    <tr>\n",
       "      <th>0</th>\n",
       "      <td>1.294801</td>\n",
       "      <td>103.854467</td>\n",
       "      <td>1</td>\n",
       "      <td>BEACH ROAD</td>\n",
       "      <td>189673</td>\n",
       "      <td>1 BEACH RD</td>\n",
       "      <td>1351.713661</td>\n",
       "      <td>143.728945</td>\n",
       "      <td>1</td>\n",
       "      <td>KALLANG/WHAMPOA</td>\n",
       "      <td>...</td>\n",
       "      <td>04 TO 06</td>\n",
       "      <td>74.0</td>\n",
       "      <td>Improved</td>\n",
       "      <td>1979</td>\n",
       "      <td>388000.0</td>\n",
       "      <td>63</td>\n",
       "      <td>2015-01-01</td>\n",
       "      <td>2015</td>\n",
       "      <td>5.0</td>\n",
       "      <td>55</td>\n",
       "    </tr>\n",
       "    <tr>\n",
       "      <th>1</th>\n",
       "      <td>1.294801</td>\n",
       "      <td>103.854467</td>\n",
       "      <td>1</td>\n",
       "      <td>BEACH ROAD</td>\n",
       "      <td>189673</td>\n",
       "      <td>1 BEACH RD</td>\n",
       "      <td>1351.713661</td>\n",
       "      <td>143.728945</td>\n",
       "      <td>3</td>\n",
       "      <td>KALLANG/WHAMPOA</td>\n",
       "      <td>...</td>\n",
       "      <td>07 TO 09</td>\n",
       "      <td>68.0</td>\n",
       "      <td>Improved</td>\n",
       "      <td>1979</td>\n",
       "      <td>350000.0</td>\n",
       "      <td>62</td>\n",
       "      <td>2016-03-01</td>\n",
       "      <td>2016</td>\n",
       "      <td>8.0</td>\n",
       "      <td>55</td>\n",
       "    </tr>\n",
       "  </tbody>\n",
       "</table>\n",
       "<p>2 rows × 23 columns</p>\n",
       "</div>"
      ],
      "text/plain": [
       "   latitude   longitude blk_no   road_name postal_code     address  \\\n",
       "0  1.294801  103.854467      1  BEACH ROAD      189673  1 BEACH RD   \n",
       "1  1.294801  103.854467      1  BEACH ROAD      189673  1 BEACH RD   \n",
       "\n",
       "      cbd_dist  min_dist_mrt  month             town  ... storey_range  \\\n",
       "0  1351.713661    143.728945      1  KALLANG/WHAMPOA  ...     04 TO 06   \n",
       "1  1351.713661    143.728945      3  KALLANG/WHAMPOA  ...     07 TO 09   \n",
       "\n",
       "  floor_area_sqm flat_model lease_commence_date  resale_price remaining_lease  \\\n",
       "0           74.0   Improved                1979      388000.0              63   \n",
       "1           68.0   Improved                1979      350000.0              62   \n",
       "\n",
       "    timestamp  year story_median lease_remain_years  \n",
       "0  2015-01-01  2015          5.0                 55  \n",
       "1  2016-03-01  2016          8.0                 55  \n",
       "\n",
       "[2 rows x 23 columns]"
      ]
     },
     "execution_count": 31,
     "metadata": {},
     "output_type": "execute_result"
    }
   ],
   "source": [
    "df_new.head(2)"
   ]
  },
  {
   "cell_type": "code",
   "execution_count": 33,
   "id": "24b53350-efa6-4153-9710-73df16794429",
   "metadata": {},
   "outputs": [],
   "source": [
    "df_new.to_csv('../data/combined.csv', index = False)"
   ]
  },
  {
   "cell_type": "code",
   "execution_count": null,
   "id": "44147a8e-5bb3-4633-863b-f07fb7a38ca9",
   "metadata": {},
   "outputs": [],
   "source": []
  }
 ],
 "metadata": {
  "kernelspec": {
   "display_name": "Python 3 (ipykernel)",
   "language": "python",
   "name": "python3"
  },
  "language_info": {
   "codemirror_mode": {
    "name": "ipython",
    "version": 3
   },
   "file_extension": ".py",
   "mimetype": "text/x-python",
   "name": "python",
   "nbconvert_exporter": "python",
   "pygments_lexer": "ipython3",
   "version": "3.12.2"
  }
 },
 "nbformat": 4,
 "nbformat_minor": 5
}
