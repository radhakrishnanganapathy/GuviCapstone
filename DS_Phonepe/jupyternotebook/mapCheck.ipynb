{
 "cells": [
  {
   "cell_type": "code",
   "execution_count": 8,
   "id": "a6b31ca5-7c07-449a-bf8b-e443ddcca978",
   "metadata": {},
   "outputs": [],
   "source": [
    "import psycopg2 \n",
    "import pandas as pd\n",
    "import plotly.express as px\n",
    "import json"
   ]
  },
  {
   "cell_type": "code",
   "execution_count": 9,
   "id": "dfe4b4f7-0b6f-40aa-b23f-e353589bcfac",
   "metadata": {},
   "outputs": [],
   "source": [
    "mydb = {\n",
    "    'host' : 'localhost',\n",
    "    'database' : 'guvi',\n",
    "    'user' :'postgres',\n",
    "    'password' : 'ags009',\n",
    "    'port' : '5432'\n",
    "\n",
    "}"
   ]
  },
  {
   "cell_type": "code",
   "execution_count": 10,
   "id": "b4e18ac2-4c31-4416-8450-b9e964791226",
   "metadata": {},
   "outputs": [],
   "source": [
    "connection = psycopg2.connect(**mydb)\n",
    "cursor = connection.cursor()"
   ]
  },
  {
   "cell_type": "code",
   "execution_count": 11,
   "id": "3057393b-7bf5-4260-b625-b85a349d2332",
   "metadata": {},
   "outputs": [
    {
     "data": {
      "text/html": [
       "<div>\n",
       "<style scoped>\n",
       "    .dataframe tbody tr th:only-of-type {\n",
       "        vertical-align: middle;\n",
       "    }\n",
       "\n",
       "    .dataframe tbody tr th {\n",
       "        vertical-align: top;\n",
       "    }\n",
       "\n",
       "    .dataframe thead th {\n",
       "        text-align: right;\n",
       "    }\n",
       "</style>\n",
       "<table border=\"1\" class=\"dataframe\">\n",
       "  <thead>\n",
       "    <tr style=\"text-align: right;\">\n",
       "      <th></th>\n",
       "      <th>state</th>\n",
       "      <th>transaction_amount</th>\n",
       "    </tr>\n",
       "  </thead>\n",
       "  <tbody>\n",
       "    <tr>\n",
       "      <th>0</th>\n",
       "      <td>maharashtra</td>\n",
       "      <td>4.929002e+08</td>\n",
       "    </tr>\n",
       "    <tr>\n",
       "      <th>1</th>\n",
       "      <td>karnataka</td>\n",
       "      <td>4.758150e+08</td>\n",
       "    </tr>\n",
       "    <tr>\n",
       "      <th>2</th>\n",
       "      <td>telangana</td>\n",
       "      <td>3.201534e+08</td>\n",
       "    </tr>\n",
       "    <tr>\n",
       "      <th>3</th>\n",
       "      <td>andhra-pradesh</td>\n",
       "      <td>2.703130e+08</td>\n",
       "    </tr>\n",
       "    <tr>\n",
       "      <th>4</th>\n",
       "      <td>uttar-pradesh</td>\n",
       "      <td>2.661048e+08</td>\n",
       "    </tr>\n",
       "  </tbody>\n",
       "</table>\n",
       "</div>"
      ],
      "text/plain": [
       "            state  transaction_amount\n",
       "0     maharashtra        4.929002e+08\n",
       "1       karnataka        4.758150e+08\n",
       "2       telangana        3.201534e+08\n",
       "3  andhra-pradesh        2.703130e+08\n",
       "4   uttar-pradesh        2.661048e+08"
      ]
     },
     "execution_count": 11,
     "metadata": {},
     "output_type": "execute_result"
    }
   ],
   "source": [
    "cursor.execute(\"select state, transaction_amount from agg_tra where year='2021' and quarter=1 and transaction_type='Financial Services' group by state,transaction_amount order by transaction_amount desc limit 30\" )\n",
    "result = cursor.fetchall()\n",
    "transactions = pd.DataFrame(result,columns=['state','transaction_amount'] )\n",
    "transactions.head(5)"
   ]
  },
  {
   "cell_type": "code",
   "execution_count": 12,
   "id": "b7dd169d-a65d-48da-82f1-217c042192af",
   "metadata": {},
   "outputs": [],
   "source": [
    "import plotly.io as pio\n",
    "pio.renderers.default = 'browser'"
   ]
  },
  {
   "cell_type": "code",
   "execution_count": 35,
   "id": "1b14a042-a42c-46ac-8cca-15fd9e8f5dfd",
   "metadata": {},
   "outputs": [
    {
     "data": {
      "text/plain": [
       "0     {'type': 'Feature', 'geometry': {'type': 'Mult...\n",
       "1     {'type': 'Feature', 'geometry': {'type': 'Mult...\n",
       "2     {'type': 'Feature', 'geometry': {'type': 'Mult...\n",
       "3     {'type': 'Feature', 'geometry': {'type': 'Mult...\n",
       "4     {'type': 'Feature', 'geometry': {'type': 'Mult...\n",
       "5     {'type': 'Feature', 'geometry': {'type': 'Mult...\n",
       "6     {'type': 'Feature', 'geometry': {'type': 'Mult...\n",
       "7     {'type': 'Feature', 'geometry': {'type': 'Mult...\n",
       "8     {'type': 'Feature', 'geometry': {'type': 'Mult...\n",
       "9     {'type': 'Feature', 'geometry': {'type': 'Mult...\n",
       "10    {'type': 'Feature', 'geometry': {'type': 'Mult...\n",
       "11    {'type': 'Feature', 'geometry': {'type': 'Mult...\n",
       "12    {'type': 'Feature', 'geometry': {'type': 'Mult...\n",
       "13    {'type': 'Feature', 'geometry': {'type': 'Mult...\n",
       "14    {'type': 'Feature', 'geometry': {'type': 'Mult...\n",
       "15    {'type': 'Feature', 'geometry': {'type': 'Mult...\n",
       "16    {'type': 'Feature', 'geometry': {'type': 'Mult...\n",
       "17    {'type': 'Feature', 'geometry': {'type': 'Mult...\n",
       "18    {'type': 'Feature', 'geometry': {'type': 'Mult...\n",
       "19    {'type': 'Feature', 'geometry': {'type': 'Mult...\n",
       "20    {'type': 'Feature', 'geometry': {'type': 'Mult...\n",
       "21    {'type': 'Feature', 'geometry': {'type': 'Mult...\n",
       "22    {'type': 'Feature', 'geometry': {'type': 'Mult...\n",
       "23    {'type': 'Feature', 'geometry': {'type': 'Mult...\n",
       "24    {'type': 'Feature', 'geometry': {'type': 'Mult...\n",
       "25    {'type': 'Feature', 'geometry': {'type': 'Mult...\n",
       "26    {'type': 'Feature', 'geometry': {'type': 'Mult...\n",
       "27    {'type': 'Feature', 'geometry': {'type': 'Mult...\n",
       "28    {'type': 'Feature', 'geometry': {'type': 'Mult...\n",
       "29    {'type': 'Feature', 'geometry': {'type': 'Mult...\n",
       "30    {'type': 'Feature', 'geometry': {'type': 'Mult...\n",
       "31    {'type': 'Feature', 'geometry': {'type': 'Mult...\n",
       "32    {'type': 'Feature', 'geometry': {'type': 'Mult...\n",
       "33    {'type': 'Feature', 'geometry': {'type': 'Mult...\n",
       "34    {'type': 'Feature', 'geometry': {'type': 'Mult...\n",
       "35    {'type': 'Feature', 'geometry': {'type': 'Mult...\n",
       "Name: features, dtype: object"
      ]
     },
     "execution_count": 35,
     "metadata": {},
     "output_type": "execute_result"
    }
   ],
   "source": [
    "india_states = json.load(open(\"../data/states_india.geojson\", \"r\"))\n",
    "india_states_df = pd.DataFrame(india_states)\n",
    "india_states_df[\"features\"]"
   ]
  },
  {
   "cell_type": "code",
   "execution_count": 38,
   "id": "05d6cc59-163c-49c0-a058-96363b696959",
   "metadata": {},
   "outputs": [
    {
     "data": {
      "text/plain": [
       "{'state': ['Telangana',\n",
       "  'Andaman & Nicobar Island',\n",
       "  'Andhra Pradesh',\n",
       "  'Arunanchal Pradesh',\n",
       "  'Assam',\n",
       "  'Bihar',\n",
       "  'Chhattisgarh',\n",
       "  'Daman & Diu',\n",
       "  'Goa',\n",
       "  'Gujarat',\n",
       "  'Haryana',\n",
       "  'Himachal Pradesh',\n",
       "  'Jammu & Kashmir',\n",
       "  'Jharkhand',\n",
       "  'Karnataka',\n",
       "  'Kerala',\n",
       "  'Lakshadweep',\n",
       "  'Madhya Pradesh',\n",
       "  'Maharashtra',\n",
       "  'Manipur',\n",
       "  'Chandigarh',\n",
       "  'Puducherry',\n",
       "  'Punjab',\n",
       "  'Rajasthan',\n",
       "  'Sikkim',\n",
       "  'Tamil Nadu',\n",
       "  'Tripura',\n",
       "  'Uttar Pradesh',\n",
       "  'Uttarakhand',\n",
       "  'West Bengal',\n",
       "  'Odisha',\n",
       "  'Dadara & Nagar Havelli',\n",
       "  'Meghalaya',\n",
       "  'Mizoram',\n",
       "  'Nagaland',\n",
       "  'NCT of Delhi']}"
      ]
     },
     "execution_count": 38,
     "metadata": {},
     "output_type": "execute_result"
    }
   ],
   "source": [
    "state_id_map = {}\n",
    "for feature in india_states[\"features\"]:\n",
    "    feature[\"id\"] = feature[\"properties\"][\"state_code\"]\n",
    "    state_id_map[feature[\"properties\"][\"st_nm\"]] = feature[\"id\"]"
   ]
  },
  {
   "cell_type": "code",
   "execution_count": 41,
   "id": "cb9532ee-b0d4-4c2d-9d4c-7fd1543eb450",
   "metadata": {},
   "outputs": [],
   "source": [
    "df = pd.read_csv(\"india_census.csv\")\n",
    "df[\"Density\"] = df[\"Density[a]\"].apply(lambda x: int(x.split(\"/\")[0].replace(\",\", \"\")))\n",
    "df[\"id\"] = df[\"State or union territory\"].apply(lambda x: state_id_map[x])"
   ]
  },
  {
   "cell_type": "code",
   "execution_count": 17,
   "id": "48f7fa8a-87e8-421c-887c-5d5840743873",
   "metadata": {},
   "outputs": [
    {
     "data": {
      "text/plain": [
       "<Axes: >"
      ]
     },
     "execution_count": 17,
     "metadata": {},
     "output_type": "execute_result"
    },
    {
     "data": {
      "image/png": "[encoded data removed]",
      "text/plain": [
       "<Figure size 640x480 with 1 Axes>"
      ]
     },
     "metadata": {},
     "output_type": "display_data"
    }
   ],
   "source": [
    "transactions[\"transaction_amount\"].plot()"
   ]
  },
  {
   "cell_type": "code",
   "execution_count": 49,
   "id": "1c6370dc-10f7-4e43-aa4a-8deed42bc17c",
   "metadata": {},
   "outputs": [
    {
     "ename": "ValueError",
     "evalue": "All arguments should have the same length. The length of column argument `df[hover_data_0]` is 30, whereas the length of  previously-processed arguments ['hover_name', 'locations'] is 2",
     "output_type": "error",
     "traceback": [
      "\u001b[1;31m---------------------------------------------------------------------------\u001b[0m",
      "\u001b[1;31mValueError\u001b[0m                                Traceback (most recent call last)",
      "Cell \u001b[1;32mIn[49], line 1\u001b[0m\n\u001b[1;32m----> 1\u001b[0m fig \u001b[38;5;241m=\u001b[39m \u001b[43mpx\u001b[49m\u001b[38;5;241;43m.\u001b[39;49m\u001b[43mchoropleth\u001b[49m\u001b[43m(\u001b[49m\n\u001b[0;32m      2\u001b[0m \u001b[43m    \u001b[49m\u001b[43mtransactions\u001b[49m\u001b[43m,\u001b[49m\n\u001b[0;32m      3\u001b[0m \u001b[43m    \u001b[49m\u001b[43mlocations\u001b[49m\u001b[38;5;241;43m=\u001b[39;49m\u001b[43m[\u001b[49m\u001b[38;5;124;43m'\u001b[39;49m\u001b[38;5;124;43mstate\u001b[39;49m\u001b[38;5;124;43m'\u001b[39;49m\u001b[43m,\u001b[49m\u001b[43m \u001b[49m\u001b[38;5;124;43m'\u001b[39;49m\u001b[38;5;124;43mtransaction_amount\u001b[39;49m\u001b[38;5;124;43m'\u001b[39;49m\u001b[43m]\u001b[49m\u001b[43m,\u001b[49m\n\u001b[0;32m      4\u001b[0m \u001b[43m    \u001b[49m\u001b[43mgeojson\u001b[49m\u001b[38;5;241;43m=\u001b[39;49m\u001b[43mindia_states\u001b[49m\u001b[43m,\u001b[49m\n\u001b[0;32m      5\u001b[0m \u001b[43m    \u001b[49m\u001b[43mcolor\u001b[49m\u001b[38;5;241;43m=\u001b[39;49m\u001b[38;5;124;43m\"\u001b[39;49m\u001b[38;5;124;43mDensityScale\u001b[39;49m\u001b[38;5;124;43m\"\u001b[39;49m\u001b[43m,\u001b[49m\n\u001b[0;32m      6\u001b[0m \u001b[43m    \u001b[49m\u001b[43mhover_name\u001b[49m\u001b[38;5;241;43m=\u001b[39;49m\u001b[43m[\u001b[49m\u001b[38;5;124;43m'\u001b[39;49m\u001b[38;5;124;43mstate\u001b[39;49m\u001b[38;5;124;43m'\u001b[39;49m\u001b[43m,\u001b[49m\u001b[43m \u001b[49m\u001b[38;5;124;43m'\u001b[39;49m\u001b[38;5;124;43mtransaction_amount\u001b[39;49m\u001b[38;5;124;43m'\u001b[39;49m\u001b[43m]\u001b[49m\u001b[43m,\u001b[49m\n\u001b[0;32m      7\u001b[0m \u001b[43m    \u001b[49m\u001b[43mhover_data\u001b[49m\u001b[38;5;241;43m=\u001b[39;49m\u001b[43m[\u001b[49m\u001b[38;5;124;43m'\u001b[39;49m\u001b[38;5;124;43mstate\u001b[39;49m\u001b[38;5;124;43m'\u001b[39;49m\u001b[43m,\u001b[49m\u001b[38;5;124;43m\"\u001b[39;49m\u001b[38;5;124;43mtransaction_amount\u001b[39;49m\u001b[38;5;124;43m\"\u001b[39;49m\u001b[43m]\u001b[49m\u001b[43m,\u001b[49m\n\u001b[0;32m      8\u001b[0m \u001b[43m    \u001b[49m\u001b[43mtitle\u001b[49m\u001b[38;5;241;43m=\u001b[39;49m\u001b[38;5;124;43m\"\u001b[39;49m\u001b[38;5;124;43mIndia transaction_amount\u001b[39;49m\u001b[38;5;124;43m\"\u001b[39;49m\u001b[43m,\u001b[49m\n\u001b[0;32m      9\u001b[0m \u001b[43m)\u001b[49m\n\u001b[0;32m     10\u001b[0m fig\u001b[38;5;241m.\u001b[39mupdate_geos(fitbounds\u001b[38;5;241m=\u001b[39m\u001b[38;5;124m\"\u001b[39m\u001b[38;5;124mlocations\u001b[39m\u001b[38;5;124m\"\u001b[39m, visible\u001b[38;5;241m=\u001b[39m\u001b[38;5;28;01mFalse\u001b[39;00m)\n\u001b[0;32m     11\u001b[0m fig\u001b[38;5;241m.\u001b[39mshow()\n",
      "File \u001b[1;32mZ:\\radhakrishnan\\DS_Phonepe\\venv\\Lib\\site-packages\\plotly\\express\\_chart_types.py:1091\u001b[0m, in \u001b[0;36mchoropleth\u001b[1;34m(data_frame, lat, lon, locations, locationmode, geojson, featureidkey, color, facet_row, facet_col, facet_col_wrap, facet_row_spacing, facet_col_spacing, hover_name, hover_data, custom_data, animation_frame, animation_group, category_orders, labels, color_discrete_sequence, color_discrete_map, color_continuous_scale, range_color, color_continuous_midpoint, projection, scope, center, fitbounds, basemap_visible, title, template, width, height)\u001b[0m\n\u001b[0;32m   1051\u001b[0m \u001b[38;5;28;01mdef\u001b[39;00m \u001b[38;5;21mchoropleth\u001b[39m(\n\u001b[0;32m   1052\u001b[0m     data_frame\u001b[38;5;241m=\u001b[39m\u001b[38;5;28;01mNone\u001b[39;00m,\n\u001b[0;32m   1053\u001b[0m     lat\u001b[38;5;241m=\u001b[39m\u001b[38;5;28;01mNone\u001b[39;00m,\n\u001b[1;32m   (...)\u001b[0m\n\u001b[0;32m   1085\u001b[0m     height\u001b[38;5;241m=\u001b[39m\u001b[38;5;28;01mNone\u001b[39;00m,\n\u001b[0;32m   1086\u001b[0m ) \u001b[38;5;241m-\u001b[39m\u001b[38;5;241m>\u001b[39m go\u001b[38;5;241m.\u001b[39mFigure:\n\u001b[0;32m   1087\u001b[0m \u001b[38;5;250m    \u001b[39m\u001b[38;5;124;03m\"\"\"\u001b[39;00m\n\u001b[0;32m   1088\u001b[0m \u001b[38;5;124;03m    In a choropleth map, each row of `data_frame` is represented by a\u001b[39;00m\n\u001b[0;32m   1089\u001b[0m \u001b[38;5;124;03m    colored region mark on a map.\u001b[39;00m\n\u001b[0;32m   1090\u001b[0m \u001b[38;5;124;03m    \"\"\"\u001b[39;00m\n\u001b[1;32m-> 1091\u001b[0m     \u001b[38;5;28;01mreturn\u001b[39;00m \u001b[43mmake_figure\u001b[49m\u001b[43m(\u001b[49m\n\u001b[0;32m   1092\u001b[0m \u001b[43m        \u001b[49m\u001b[43margs\u001b[49m\u001b[38;5;241;43m=\u001b[39;49m\u001b[38;5;28;43mlocals\u001b[39;49m\u001b[43m(\u001b[49m\u001b[43m)\u001b[49m\u001b[43m,\u001b[49m\n\u001b[0;32m   1093\u001b[0m \u001b[43m        \u001b[49m\u001b[43mconstructor\u001b[49m\u001b[38;5;241;43m=\u001b[39;49m\u001b[43mgo\u001b[49m\u001b[38;5;241;43m.\u001b[39;49m\u001b[43mChoropleth\u001b[49m\u001b[43m,\u001b[49m\n\u001b[0;32m   1094\u001b[0m \u001b[43m        \u001b[49m\u001b[43mtrace_patch\u001b[49m\u001b[38;5;241;43m=\u001b[39;49m\u001b[38;5;28;43mdict\u001b[39;49m\u001b[43m(\u001b[49m\u001b[43mlocationmode\u001b[49m\u001b[38;5;241;43m=\u001b[39;49m\u001b[43mlocationmode\u001b[49m\u001b[43m)\u001b[49m\u001b[43m,\u001b[49m\n\u001b[0;32m   1095\u001b[0m \u001b[43m    \u001b[49m\u001b[43m)\u001b[49m\n",
      "File \u001b[1;32mZ:\\radhakrishnan\\DS_Phonepe\\venv\\Lib\\site-packages\\plotly\\express\\_core.py:2090\u001b[0m, in \u001b[0;36mmake_figure\u001b[1;34m(args, constructor, trace_patch, layout_patch)\u001b[0m\n\u001b[0;32m   2087\u001b[0m layout_patch \u001b[38;5;241m=\u001b[39m layout_patch \u001b[38;5;129;01mor\u001b[39;00m {}\n\u001b[0;32m   2088\u001b[0m apply_default_cascade(args)\n\u001b[1;32m-> 2090\u001b[0m args \u001b[38;5;241m=\u001b[39m \u001b[43mbuild_dataframe\u001b[49m\u001b[43m(\u001b[49m\u001b[43margs\u001b[49m\u001b[43m,\u001b[49m\u001b[43m \u001b[49m\u001b[43mconstructor\u001b[49m\u001b[43m)\u001b[49m\n\u001b[0;32m   2091\u001b[0m \u001b[38;5;28;01mif\u001b[39;00m constructor \u001b[38;5;129;01min\u001b[39;00m [go\u001b[38;5;241m.\u001b[39mTreemap, go\u001b[38;5;241m.\u001b[39mSunburst, go\u001b[38;5;241m.\u001b[39mIcicle] \u001b[38;5;129;01mand\u001b[39;00m args[\u001b[38;5;124m\"\u001b[39m\u001b[38;5;124mpath\u001b[39m\u001b[38;5;124m\"\u001b[39m] \u001b[38;5;129;01mis\u001b[39;00m \u001b[38;5;129;01mnot\u001b[39;00m \u001b[38;5;28;01mNone\u001b[39;00m:\n\u001b[0;32m   2092\u001b[0m     args \u001b[38;5;241m=\u001b[39m process_dataframe_hierarchy(args)\n",
      "File \u001b[1;32mZ:\\radhakrishnan\\DS_Phonepe\\venv\\Lib\\site-packages\\plotly\\express\\_core.py:1492\u001b[0m, in \u001b[0;36mbuild_dataframe\u001b[1;34m(args, constructor)\u001b[0m\n\u001b[0;32m   1489\u001b[0m     args[\u001b[38;5;124m\"\u001b[39m\u001b[38;5;124mcolor\u001b[39m\u001b[38;5;124m\"\u001b[39m] \u001b[38;5;241m=\u001b[39m \u001b[38;5;28;01mNone\u001b[39;00m\n\u001b[0;32m   1490\u001b[0m \u001b[38;5;66;03m# now that things have been prepped, we do the systematic rewriting of `args`\u001b[39;00m\n\u001b[1;32m-> 1492\u001b[0m df_output, wide_id_vars \u001b[38;5;241m=\u001b[39m \u001b[43mprocess_args_into_dataframe\u001b[49m\u001b[43m(\u001b[49m\n\u001b[0;32m   1493\u001b[0m \u001b[43m    \u001b[49m\u001b[43margs\u001b[49m\u001b[43m,\u001b[49m\u001b[43m \u001b[49m\u001b[43mwide_mode\u001b[49m\u001b[43m,\u001b[49m\u001b[43m \u001b[49m\u001b[43mvar_name\u001b[49m\u001b[43m,\u001b[49m\u001b[43m \u001b[49m\u001b[43mvalue_name\u001b[49m\n\u001b[0;32m   1494\u001b[0m \u001b[43m\u001b[49m\u001b[43m)\u001b[49m\n\u001b[0;32m   1496\u001b[0m \u001b[38;5;66;03m# now that `df_output` exists and `args` contains only references, we complete\u001b[39;00m\n\u001b[0;32m   1497\u001b[0m \u001b[38;5;66;03m# the special-case and wide-mode handling by further rewriting args and/or mutating\u001b[39;00m\n\u001b[0;32m   1498\u001b[0m \u001b[38;5;66;03m# df_output\u001b[39;00m\n\u001b[0;32m   1500\u001b[0m count_name \u001b[38;5;241m=\u001b[39m _escape_col_name(df_output, \u001b[38;5;124m\"\u001b[39m\u001b[38;5;124mcount\u001b[39m\u001b[38;5;124m\"\u001b[39m, [var_name, value_name])\n",
      "File \u001b[1;32mZ:\\radhakrishnan\\DS_Phonepe\\venv\\Lib\\site-packages\\plotly\\express\\_core.py:1215\u001b[0m, in \u001b[0;36mprocess_args_into_dataframe\u001b[1;34m(args, wide_mode, var_name, value_name)\u001b[0m\n\u001b[0;32m   1213\u001b[0m         \u001b[38;5;28;01mraise\u001b[39;00m \u001b[38;5;167;01mValueError\u001b[39;00m(err_msg)\n\u001b[0;32m   1214\u001b[0m \u001b[38;5;28;01melif\u001b[39;00m length \u001b[38;5;129;01mand\u001b[39;00m \u001b[38;5;28mlen\u001b[39m(df_input[argument]) \u001b[38;5;241m!=\u001b[39m length:\n\u001b[1;32m-> 1215\u001b[0m     \u001b[38;5;28;01mraise\u001b[39;00m \u001b[38;5;167;01mValueError\u001b[39;00m(\n\u001b[0;32m   1216\u001b[0m         \u001b[38;5;124m\"\u001b[39m\u001b[38;5;124mAll arguments should have the same length. \u001b[39m\u001b[38;5;124m\"\u001b[39m\n\u001b[0;32m   1217\u001b[0m         \u001b[38;5;124m\"\u001b[39m\u001b[38;5;124mThe length of column argument `df[\u001b[39m\u001b[38;5;132;01m%s\u001b[39;00m\u001b[38;5;124m]` is \u001b[39m\u001b[38;5;132;01m%d\u001b[39;00m\u001b[38;5;124m, whereas the \u001b[39m\u001b[38;5;124m\"\u001b[39m\n\u001b[0;32m   1218\u001b[0m         \u001b[38;5;124m\"\u001b[39m\u001b[38;5;124mlength of  previously-processed arguments \u001b[39m\u001b[38;5;132;01m%s\u001b[39;00m\u001b[38;5;124m is \u001b[39m\u001b[38;5;132;01m%d\u001b[39;00m\u001b[38;5;124m\"\u001b[39m\n\u001b[0;32m   1219\u001b[0m         \u001b[38;5;241m%\u001b[39m (\n\u001b[0;32m   1220\u001b[0m             field,\n\u001b[0;32m   1221\u001b[0m             \u001b[38;5;28mlen\u001b[39m(df_input[argument]),\n\u001b[0;32m   1222\u001b[0m             \u001b[38;5;28mstr\u001b[39m(\u001b[38;5;28mlist\u001b[39m(df_output\u001b[38;5;241m.\u001b[39mkeys())),\n\u001b[0;32m   1223\u001b[0m             length,\n\u001b[0;32m   1224\u001b[0m         )\n\u001b[0;32m   1225\u001b[0m     )\n\u001b[0;32m   1226\u001b[0m \u001b[38;5;28;01melse\u001b[39;00m:\n\u001b[0;32m   1227\u001b[0m     col_name \u001b[38;5;241m=\u001b[39m \u001b[38;5;28mstr\u001b[39m(argument)\n",
      "\u001b[1;31mValueError\u001b[0m: All arguments should have the same length. The length of column argument `df[hover_data_0]` is 30, whereas the length of  previously-processed arguments ['hover_name', 'locations'] is 2"
     ]
    }
   ],
   "source": [
    "fig = px.choropleth(\n",
    "    df,\n",
    "    locations=\"id\",\n",
    "    geojson=india_states,\n",
    "    color=\"DensityScale\",\n",
    "    hover_name=\"State or union territory\",\n",
    "    hover_data=[\"Density\"],\n",
    "    title=\"India Population Density\",\n",
    ")\n",
    "fig.update_geos(fitbounds=\"locations\", visible=False)\n",
    "fig.show()"
   ]
  },
  {
   "cell_type": "code",
   "execution_count": 51,
   "id": "1b623407-1d92-4691-baba-417b9b25ed77",
   "metadata": {},
   "outputs": [
    {
     "name": "stdout",
     "output_type": "stream",
     "text": [
      "Missing IDs for the following states:\n",
      "                                 state  transaction_amount  id\n",
      "3                       andhra-pradesh        2.703130e+08 NaN\n",
      "4                        uttar-pradesh        2.661048e+08 NaN\n",
      "5                           tamil-nadu        2.153194e+08 NaN\n",
      "6                                delhi        2.031069e+08 NaN\n",
      "7                          west-bengal        1.754458e+08 NaN\n",
      "9                       madhya-pradesh        1.618384e+08 NaN\n",
      "20                     jammu-&-kashmir        2.084866e+07 NaN\n",
      "21                    himachal-pradesh        1.655421e+07 NaN\n",
      "29                   arunachal-pradesh        2.672460e+06 NaN\n",
      "30  dadra-&-nagar-haveli-&-daman-&-diu        1.930009e+06 NaN\n",
      "32           andaman-&-nicobar-islands        1.469351e+06 NaN\n",
      "33                              ladakh        1.455016e+06 NaN\n"
     ]
    }
   ],
   "source": [
    "import psycopg2\n",
    "import pandas as pd\n",
    "import plotly.express as px\n",
    "import json\n",
    "\n",
    "# Database connection details\n",
    "mydb = {\n",
    "    'host': 'localhost',\n",
    "    'database': 'guvi',\n",
    "    'user': 'postgres',\n",
    "    'password': 'ags009',\n",
    "    'port': '5432'\n",
    "}\n",
    "\n",
    "# Connect to the database\n",
    "connection = psycopg2.connect(**mydb)\n",
    "cursor = connection.cursor()\n",
    "\n",
    "# Fetch transaction data from the database\n",
    "query = \"\"\"\n",
    "SELECT state, SUM(transaction_amount) as transaction_amount \n",
    "FROM agg_tra \n",
    "WHERE year='2021' AND quarter=1 AND transaction_type='Financial Services' \n",
    "GROUP BY state \n",
    "ORDER BY transaction_amount DESC \n",
    "\"\"\"\n",
    "cursor.execute(query)\n",
    "result = cursor.fetchall()\n",
    "transactions = pd.DataFrame(result, columns=['state', 'transaction_amount'])\n",
    "transactions.head(5)\n",
    "\n",
    "# Set Plotly renderer to browser\n",
    "import plotly.io as pio\n",
    "pio.renderers.default = 'browser'\n",
    "\n",
    "# Load the GeoJSON file\n",
    "india_states = json.load(open(\"../data/states_india.geojson\", \"r\"))\n",
    "\n",
    "# Prepare a state ID map for matching\n",
    "state_id_map = {}\n",
    "for feature in india_states[\"features\"]:\n",
    "    feature[\"id\"] = feature[\"properties\"][\"state_code\"]\n",
    "    state_id_map[feature[\"properties\"][\"st_nm\"].upper()] = feature[\"id\"]\n",
    "\n",
    "# Add the state IDs to the transaction DataFrame\n",
    "transactions[\"id\"] = transactions[\"state\"].apply(lambda x: state_id_map.get(x.upper(), None))\n",
    "\n",
    "# Check for any missing IDs\n",
    "missing_ids = transactions[transactions[\"id\"].isnull()]\n",
    "if not missing_ids.empty:\n",
    "    print(\"Missing IDs for the following states:\")\n",
    "    print(missing_ids)\n",
    "\n",
    "# Plot the data\n",
    "fig = px.choropleth(\n",
    "    transactions,\n",
    "    locations=\"id\",\n",
    "    geojson=india_states,\n",
    "    color=\"transaction_amount\",\n",
    "    hover_name=\"state\",\n",
    "    hover_data=[\"transaction_amount\"],\n",
    "    title=\"Financial Services Transactions by State in Q1 2021\"\n",
    ")\n",
    "fig.update_geos(fitbounds=\"locations\", visible=False)\n",
    "fig.show()\n"
   ]
  },
  {
   "cell_type": "code",
   "execution_count": null,
   "id": "d266ca79-f116-44ae-a351-73921bbcb06b",
   "metadata": {},
   "outputs": [],
   "source": []
  }
 ],
 "metadata": {
  "kernelspec": {
   "display_name": "Python 3 (ipykernel)",
   "language": "python",
   "name": "python3"
  },
  "language_info": {
   "codemirror_mode": {
    "name": "ipython",
    "version": 3
   },
   "file_extension": ".py",
   "mimetype": "text/x-python",
   "name": "python",
   "nbconvert_exporter": "python",
   "pygments_lexer": "ipython3",
   "version": "3.12.2"
  }
 },
 "nbformat": 4,
 "nbformat_minor": 5
}
